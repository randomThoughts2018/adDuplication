{
 "cells": [
  {
   "cell_type": "markdown",
   "metadata": {},
   "source": [
    "**Key things to learn**\n",
    "\n",
    "- XGBOOST \n",
    "    - https://sadanand-singh.github.io/posts/treebasedmodels/#bootstrap-aggregating-bagging\n",
    "    - https://sadanand-singh.github.io/posts/boostedtrees/\n",
    "    - https://medium.com/mlreview/gradient-boosting-from-scratch-1e317ae4587d\n",
    "    - https://medium.com/syncedreview/tree-boosting-with-xgboost-why-does-xgboost-win-every-machine-learning-competition-ca8034c0b283\n",
    "    - http://blog.kaggle.com/2017/01/23/a-kaggle-master-explains-gradient-boosting/\n",
    "    - https://machinelearningmastery.com/gentle-introduction-xgboost-applied-machine-learning/\n",
    "    - https://xgboost.readthedocs.io/en/latest/model.html\n",
    "- lightgbm \n",
    "- feature plots \n",
    "- validation data strategy "
   ]
  },
  {
   "cell_type": "markdown",
   "metadata": {},
   "source": [
    "**Duplicate Detection**"
   ]
  },
  {
   "cell_type": "markdown",
   "metadata": {},
   "source": [
    "**Competition Metric: AUC (Area Under the Curve)**"
   ]
  },
  {
   "cell_type": "markdown",
   "metadata": {},
   "source": [
    "- [3rd place solution](http://blog.kaggle.com/2016/07/27/avito-duplicate-ads-detection-winners-interview-3rd-place-mario-gerard-kele-praveen-gilberto/)\n",
    "- [2nd place solution](http://blog.kaggle.com/2016/08/31/avito-duplicate-ads-detection-winners-interview-2nd-place-team-the-quants-mikel-peter-marios-sonny/)\n",
    "- [1st Place solution](http://blog.kaggle.com/2016/08/24/avito-duplicate-ads-detection-winners-interview-1st-place-team-devil-team-stanislav-dmitrii/)"
   ]
  },
  {
   "cell_type": "markdown",
   "metadata": {},
   "source": [
    "## Data"
   ]
  },
  {
   "cell_type": "markdown",
   "metadata": {},
   "source": [
    "In this competition, you will predict whether pairs of ads are duplicates. The data is captured in the following schema:\n",
    "    \n",
    "> ![img](./avito-dup.svg)\n",
    "\n",
    "\n",
    "To ensure that winning models are robust enough to generalize to new duplicate cases, the train and test datasets are sampled from different time intervals. Hence, you may see different distributions of duplicates in train/test datasets. \n",
    "\n",
    "### File descriptions\n",
    "- **ItemPairs_test.csv** – Pairs of ads that are duplicate and not duplicates on which to train.\n",
    "    - itemID_1 – identifier of the first ad.\n",
    "    - itemID_2 – identifier of the second ad.\n",
    "    - isDuplicate – target field. If itemID_1 and itemID_2 are duplicates or not (0 = not duplicate, 1 = duplicate).\n",
    "    - generationMethod – training data generation method. Different generation methods have different noise levels.\n",
    "    - 1 = targets produced by humans when they consider only pair of ads.\n",
    "    - 2 = targets produced by automatic algorithms.\n",
    "    - 3 = targets produced by humans during analyses of all ads for the same owner.\n",
    "- **ItemPairs_test.csv** – Pairs of ads to predict duplicate probability.\n",
    "    - id – row identifier.\n",
    "    - itemID_1 – identifier of the first ad. These ads are not present in train data.\n",
    "    - itemID_2 – identifier of the second ad. These ads are not present in train data.\n",
    "- **ItemInfo_train.csv** Information about each ad for training:\n",
    "    - itemID – ad identifier (as in ItemPairs.tsv).\n",
    "    - categoryID – identifier of ad category (as in Category.tsv).\n",
    "    - title – ad title.\n",
    "    - description – full text with the ad's description.\n",
    "    - images_array – list of image identifiers associated with this ad. (Refer to Images.zip how to find each image by its id).\n",
    "    - attrsJSON – additional parameters of the ad in JSON format.\n",
    "    - price – ad price.\n",
    "    - locationID – ad location identifier (as in Location.tsv).\n",
    "    - metroID – identifier of a closest metro station to ad location.\n",
    "    - lat – latitude of ad location.\n",
    "    - lon – longitude of ad location.\n",
    "- **ItemInfo_test.csv**. Information about each ad to predict duplicate probability. Structure is identical to ItemInfo_train.csv.\n",
    "- Images_X.zip – 10 archives with images inside. There are 10 mln+ 208x156 .jpg image files. Placing all of them inside a single folder will be really painful for a file system and accessing each image will take a lot of time. Thats why all images are distributed between 100 folders. To find and image folder you need to take last 2 digits of image id and remove leading zero if any. Folders are grouped into archives by their first digit (0 if no digit). Example: you need to find image for image_id = 123456. Take last 2 digits = 56, thats why it is contained in 56 folder. This folder is contained in Images_5.zip archive.\n",
    "- **Category.csv**\n",
    "    - categoryID – identifier of the category.\n",
    "    - parentCategoryID – identifier of parent category.\n",
    "- **Location.csv**\n",
    "    - locationID – identifier of the location.\n",
    "    - regionID – identifier of region.\n",
    "- **Random_submission.csv** – correct submission format (probabilities generated randomly)\n",
    "    - id – the list of pairs from ItemPairs_test,\n",
    "    - probability - probability of the pair being duplicates"
   ]
  },
  {
   "cell_type": "code",
   "execution_count": 1,
   "metadata": {},
   "outputs": [],
   "source": [
    "%matplotlib inline\n",
    "%reload_ext autoreload\n",
    "%autoreload 2"
   ]
  },
  {
   "cell_type": "code",
   "execution_count": 2,
   "metadata": {},
   "outputs": [
    {
     "name": "stderr",
     "output_type": "stream",
     "text": [
      "Using TensorFlow backend.\n"
     ]
    }
   ],
   "source": [
    "from imports import * \n",
    "from structured import *"
   ]
  },
  {
   "cell_type": "code",
   "execution_count": 3,
   "metadata": {},
   "outputs": [],
   "source": [
    "import seaborn as sns\n",
    "sns.set(color_codes=True)\n",
    "np.random.seed(sum(map(ord, \"distributions\")))"
   ]
  },
  {
   "cell_type": "code",
   "execution_count": 4,
   "metadata": {},
   "outputs": [],
   "source": [
    "from path import Path"
   ]
  },
  {
   "cell_type": "code",
   "execution_count": 5,
   "metadata": {},
   "outputs": [],
   "source": [
    "PATH = Path('./data/')"
   ]
  },
  {
   "cell_type": "code",
   "execution_count": 6,
   "metadata": {},
   "outputs": [
    {
     "name": "stdout",
     "output_type": "stream",
     "text": [
      "Category.csv\n",
      "Category.csv.zip\n",
      "ItemInfo_test.csv\n",
      "ItemInfo_test.csv.zip\n",
      "ItemInfo_train.csv\n",
      "ItemInfo_train.csv.zip\n",
      "ItemPairs_test.csv\n",
      "ItemPairs_test.csv.zip\n",
      "ItemPairs_train.csv\n",
      "ItemPairs_train.csv.zip\n",
      "Location.csv\n",
      "Location.csv.zip\n"
     ]
    }
   ],
   "source": [
    "! ls ./data"
   ]
  },
  {
   "cell_type": "code",
   "execution_count": 7,
   "metadata": {},
   "outputs": [],
   "source": [
    "train_pairs = pd.read_csv(PATH / 'ItemPairs_train.csv')"
   ]
  },
  {
   "cell_type": "code",
   "execution_count": 8,
   "metadata": {},
   "outputs": [],
   "source": [
    "train_iteminfo = pd.read_csv(PATH/'ItemInfo_train.csv')"
   ]
  },
  {
   "cell_type": "code",
   "execution_count": 9,
   "metadata": {},
   "outputs": [],
   "source": [
    "train_locations = pd.read_csv(PATH/'Location.csv')"
   ]
  },
  {
   "cell_type": "code",
   "execution_count": 10,
   "metadata": {},
   "outputs": [],
   "source": [
    "category = pd.read_csv(PATH/'Category.csv')"
   ]
  },
  {
   "cell_type": "markdown",
   "metadata": {},
   "source": [
    "### Understanding the data and the problem"
   ]
  },
  {
   "cell_type": "code",
   "execution_count": 11,
   "metadata": {
    "scrolled": true
   },
   "outputs": [
    {
     "data": {
      "text/html": [
       "<div>\n",
       "<style scoped>\n",
       "    .dataframe tbody tr th:only-of-type {\n",
       "        vertical-align: middle;\n",
       "    }\n",
       "\n",
       "    .dataframe tbody tr th {\n",
       "        vertical-align: top;\n",
       "    }\n",
       "\n",
       "    .dataframe thead th {\n",
       "        text-align: right;\n",
       "    }\n",
       "</style>\n",
       "<table border=\"1\" class=\"dataframe\">\n",
       "  <thead>\n",
       "    <tr style=\"text-align: right;\">\n",
       "      <th></th>\n",
       "      <th>itemID_1</th>\n",
       "      <th>itemID_2</th>\n",
       "      <th>isDuplicate</th>\n",
       "      <th>generationMethod</th>\n",
       "    </tr>\n",
       "  </thead>\n",
       "  <tbody>\n",
       "    <tr>\n",
       "      <th>0</th>\n",
       "      <td>1</td>\n",
       "      <td>4112648</td>\n",
       "      <td>1</td>\n",
       "      <td>1</td>\n",
       "    </tr>\n",
       "    <tr>\n",
       "      <th>1</th>\n",
       "      <td>3</td>\n",
       "      <td>1991275</td>\n",
       "      <td>1</td>\n",
       "      <td>1</td>\n",
       "    </tr>\n",
       "    <tr>\n",
       "      <th>2</th>\n",
       "      <td>4</td>\n",
       "      <td>1223296</td>\n",
       "      <td>0</td>\n",
       "      <td>1</td>\n",
       "    </tr>\n",
       "    <tr>\n",
       "      <th>3</th>\n",
       "      <td>7</td>\n",
       "      <td>1058851</td>\n",
       "      <td>1</td>\n",
       "      <td>1</td>\n",
       "    </tr>\n",
       "    <tr>\n",
       "      <th>4</th>\n",
       "      <td>8</td>\n",
       "      <td>2161930</td>\n",
       "      <td>1</td>\n",
       "      <td>1</td>\n",
       "    </tr>\n",
       "  </tbody>\n",
       "</table>\n",
       "</div>"
      ],
      "text/plain": [
       "   itemID_1  itemID_2  isDuplicate  generationMethod\n",
       "0         1   4112648            1                 1\n",
       "1         3   1991275            1                 1\n",
       "2         4   1223296            0                 1\n",
       "3         7   1058851            1                 1\n",
       "4         8   2161930            1                 1"
      ]
     },
     "execution_count": 11,
     "metadata": {},
     "output_type": "execute_result"
    }
   ],
   "source": [
    "train_pairs.head()"
   ]
  },
  {
   "cell_type": "code",
   "execution_count": 12,
   "metadata": {
    "scrolled": true
   },
   "outputs": [
    {
     "data": {
      "text/plain": [
       "(2991396, 4)"
      ]
     },
     "execution_count": 12,
     "metadata": {},
     "output_type": "execute_result"
    }
   ],
   "source": [
    "train_pairs.shape"
   ]
  },
  {
   "cell_type": "markdown",
   "metadata": {},
   "source": [
    "Lets see distribution of target variable. \n",
    "It is a binary variable with 0/1 as label.  "
   ]
  },
  {
   "cell_type": "code",
   "execution_count": 13,
   "metadata": {
    "scrolled": true
   },
   "outputs": [
    {
     "data": {
      "text/plain": [
       "(array([1727117.,       0.,       0.,       0.,       0.,       0.,\n",
       "              0.,       0.,       0., 1264279.]),\n",
       " array([0. , 0.1, 0.2, 0.3, 0.4, 0.5, 0.6, 0.7, 0.8, 0.9, 1. ]),\n",
       " <a list of 10 Patch objects>)"
      ]
     },
     "execution_count": 13,
     "metadata": {},
     "output_type": "execute_result"
    },
    {
     "data": {
      "image/png": "[encoded data removed]",
      "text/plain": [
       "<Figure size 432x288 with 1 Axes>"
      ]
     },
     "metadata": {},
     "output_type": "display_data"
    }
   ],
   "source": [
    "plt.hist(train_pairs['isDuplicate'].values)"
   ]
  },
  {
   "cell_type": "markdown",
   "metadata": {},
   "source": [
    "> ```Inference```: there are ```175000K``` not duplicates and ```12500K``` duplicates in the dataset."
   ]
  },
  {
   "cell_type": "markdown",
   "metadata": {},
   "source": [
    "How does this distribution splits with ```generation method``` ? "
   ]
  },
  {
   "cell_type": "code",
   "execution_count": 14,
   "metadata": {},
   "outputs": [
    {
     "data": {
      "text/plain": [
       "array([1, 2, 3], dtype=int64)"
      ]
     },
     "execution_count": 14,
     "metadata": {},
     "output_type": "execute_result"
    }
   ],
   "source": [
    "train_pairs['generationMethod'].unique()"
   ]
  },
  {
   "cell_type": "code",
   "execution_count": 15,
   "metadata": {},
   "outputs": [
    {
     "data": {
      "text/plain": [
       "<matplotlib.axes._subplots.AxesSubplot at 0x2fd701d0>"
      ]
     },
     "execution_count": 15,
     "metadata": {},
     "output_type": "execute_result"
    },
    {
     "data": {
      "image/png": "[encoded data removed]",
      "text/plain": [
       "<Figure size 432x288 with 1 Axes>"
      ]
     },
     "metadata": {},
     "output_type": "display_data"
    }
   ],
   "source": [
    "my_tab = pd.crosstab(index = train_pairs[\"generationMethod\"],  columns=\"count\")      # Name the count column\n",
    "my_tab.plot.bar()"
   ]
  },
  {
   "cell_type": "markdown",
   "metadata": {},
   "source": [
    "> Inference: automatically generated tags may have high noise"
   ]
  },
  {
   "cell_type": "code",
   "execution_count": 16,
   "metadata": {},
   "outputs": [
    {
     "data": {
      "text/html": [
       "<div>\n",
       "<style scoped>\n",
       "    .dataframe tbody tr th:only-of-type {\n",
       "        vertical-align: middle;\n",
       "    }\n",
       "\n",
       "    .dataframe tbody tr th {\n",
       "        vertical-align: top;\n",
       "    }\n",
       "\n",
       "    .dataframe thead th {\n",
       "        text-align: right;\n",
       "    }\n",
       "</style>\n",
       "<table border=\"1\" class=\"dataframe\">\n",
       "  <thead>\n",
       "    <tr style=\"text-align: right;\">\n",
       "      <th></th>\n",
       "      <th>0</th>\n",
       "      <th>1</th>\n",
       "      <th>2</th>\n",
       "      <th>3</th>\n",
       "      <th>4</th>\n",
       "    </tr>\n",
       "  </thead>\n",
       "  <tbody>\n",
       "    <tr>\n",
       "      <th>itemID</th>\n",
       "      <td>1</td>\n",
       "      <td>3</td>\n",
       "      <td>4</td>\n",
       "      <td>7</td>\n",
       "      <td>8</td>\n",
       "    </tr>\n",
       "    <tr>\n",
       "      <th>categoryID</th>\n",
       "      <td>81</td>\n",
       "      <td>14</td>\n",
       "      <td>84</td>\n",
       "      <td>84</td>\n",
       "      <td>39</td>\n",
       "    </tr>\n",
       "    <tr>\n",
       "      <th>title</th>\n",
       "      <td>Продам Камаз 6520</td>\n",
       "      <td>Yamaha r6</td>\n",
       "      <td>iPhone 3gs 8gb</td>\n",
       "      <td>Xiaomi Mi4 3гб RAM + 16гб ROM белый</td>\n",
       "      <td>Лыжные ботинки</td>\n",
       "    </tr>\n",
       "    <tr>\n",
       "      <th>description</th>\n",
       "      <td>Продам Камаз 6520 20 тонн</td>\n",
       "      <td>Весь в тюнинге.</td>\n",
       "      <td>Телефон в хорошем состоянии, трещин и сколов н...</td>\n",
       "      <td>Отличный подарок на новый год от \"китайской ap...</td>\n",
       "      <td>Лыжные ботинки в хорошем состоянии, 34 размер</td>\n",
       "    </tr>\n",
       "    <tr>\n",
       "      <th>images_array</th>\n",
       "      <td>1064094, 5252822, 6645873, 6960145, 9230265</td>\n",
       "      <td>11919573, 14412228, 3204180, 6646877</td>\n",
       "      <td>14384831, 6102021</td>\n",
       "      <td>NaN</td>\n",
       "      <td>13718854, 4787310</td>\n",
       "    </tr>\n",
       "    <tr>\n",
       "      <th>attrsJSON</th>\n",
       "      <td>{\"Вид техники\":\"Грузовики\"}</td>\n",
       "      <td>{\"Вид техники\":\"Мотоциклы\", \"Вид мотоцикла\":\"С...</td>\n",
       "      <td>{\"Вид телефона\":\"iPhone\"}</td>\n",
       "      <td>{\"Вид телефона\":\"Другие марки\"}</td>\n",
       "      <td>{\"Вид товара\":\"Зимние виды спорта\"}</td>\n",
       "    </tr>\n",
       "    <tr>\n",
       "      <th>price</th>\n",
       "      <td>300000</td>\n",
       "      <td>300000</td>\n",
       "      <td>3500</td>\n",
       "      <td>13500</td>\n",
       "      <td>500</td>\n",
       "    </tr>\n",
       "    <tr>\n",
       "      <th>locationID</th>\n",
       "      <td>648140</td>\n",
       "      <td>639040</td>\n",
       "      <td>640650</td>\n",
       "      <td>662210</td>\n",
       "      <td>624360</td>\n",
       "    </tr>\n",
       "    <tr>\n",
       "      <th>metroID</th>\n",
       "      <td>NaN</td>\n",
       "      <td>NaN</td>\n",
       "      <td>NaN</td>\n",
       "      <td>NaN</td>\n",
       "      <td>NaN</td>\n",
       "    </tr>\n",
       "    <tr>\n",
       "      <th>lat</th>\n",
       "      <td>64.6869</td>\n",
       "      <td>55.678</td>\n",
       "      <td>56.2394</td>\n",
       "      <td>55.7772</td>\n",
       "      <td>55.7772</td>\n",
       "    </tr>\n",
       "    <tr>\n",
       "      <th>lon</th>\n",
       "      <td>30.8159</td>\n",
       "      <td>37.2565</td>\n",
       "      <td>43.4605</td>\n",
       "      <td>37.5862</td>\n",
       "      <td>37.5862</td>\n",
       "    </tr>\n",
       "  </tbody>\n",
       "</table>\n",
       "</div>"
      ],
      "text/plain": [
       "                                                        0  \\\n",
       "itemID                                                  1   \n",
       "categoryID                                             81   \n",
       "title                                   Продам Камаз 6520   \n",
       "description                     Продам Камаз 6520 20 тонн   \n",
       "images_array  1064094, 5252822, 6645873, 6960145, 9230265   \n",
       "attrsJSON                     {\"Вид техники\":\"Грузовики\"}   \n",
       "price                                              300000   \n",
       "locationID                                         648140   \n",
       "metroID                                               NaN   \n",
       "lat                                               64.6869   \n",
       "lon                                               30.8159   \n",
       "\n",
       "                                                              1  \\\n",
       "itemID                                                        3   \n",
       "categoryID                                                   14   \n",
       "title                                                 Yamaha r6   \n",
       "description                                     Весь в тюнинге.   \n",
       "images_array               11919573, 14412228, 3204180, 6646877   \n",
       "attrsJSON     {\"Вид техники\":\"Мотоциклы\", \"Вид мотоцикла\":\"С...   \n",
       "price                                                    300000   \n",
       "locationID                                               639040   \n",
       "metroID                                                     NaN   \n",
       "lat                                                      55.678   \n",
       "lon                                                     37.2565   \n",
       "\n",
       "                                                              2  \\\n",
       "itemID                                                        4   \n",
       "categoryID                                                   84   \n",
       "title                                            iPhone 3gs 8gb   \n",
       "description   Телефон в хорошем состоянии, трещин и сколов н...   \n",
       "images_array                                  14384831, 6102021   \n",
       "attrsJSON                             {\"Вид телефона\":\"iPhone\"}   \n",
       "price                                                      3500   \n",
       "locationID                                               640650   \n",
       "metroID                                                     NaN   \n",
       "lat                                                     56.2394   \n",
       "lon                                                     43.4605   \n",
       "\n",
       "                                                              3  \\\n",
       "itemID                                                        7   \n",
       "categoryID                                                   84   \n",
       "title                       Xiaomi Mi4 3гб RAM + 16гб ROM белый   \n",
       "description   Отличный подарок на новый год от \"китайской ap...   \n",
       "images_array                                                NaN   \n",
       "attrsJSON                       {\"Вид телефона\":\"Другие марки\"}   \n",
       "price                                                     13500   \n",
       "locationID                                               662210   \n",
       "metroID                                                     NaN   \n",
       "lat                                                     55.7772   \n",
       "lon                                                     37.5862   \n",
       "\n",
       "                                                          4  \n",
       "itemID                                                    8  \n",
       "categoryID                                               39  \n",
       "title                                        Лыжные ботинки  \n",
       "description   Лыжные ботинки в хорошем состоянии, 34 размер  \n",
       "images_array                              13718854, 4787310  \n",
       "attrsJSON               {\"Вид товара\":\"Зимние виды спорта\"}  \n",
       "price                                                   500  \n",
       "locationID                                           624360  \n",
       "metroID                                                 NaN  \n",
       "lat                                                 55.7772  \n",
       "lon                                                 37.5862  "
      ]
     },
     "execution_count": 16,
     "metadata": {},
     "output_type": "execute_result"
    }
   ],
   "source": [
    "train_iteminfo.head().T"
   ]
  },
  {
   "cell_type": "markdown",
   "metadata": {},
   "source": [
    "Null percentage in the dataset"
   ]
  },
  {
   "cell_type": "code",
   "execution_count": 17,
   "metadata": {},
   "outputs": [
    {
     "data": {
      "text/plain": [
       "itemID           0.000000\n",
       "categoryID       0.000000\n",
       "title            0.000030\n",
       "description      0.003139\n",
       "images_array    11.900480\n",
       "attrsJSON        3.109119\n",
       "price            9.631189\n",
       "locationID       0.000000\n",
       "metroID         67.087523\n",
       "lat              0.000000\n",
       "lon              0.000000\n",
       "dtype: float64"
      ]
     },
     "execution_count": 17,
     "metadata": {},
     "output_type": "execute_result"
    }
   ],
   "source": [
    "train_iteminfo.isnull().sum() / len(train_iteminfo) *100"
   ]
  },
  {
   "cell_type": "markdown",
   "metadata": {},
   "source": [
    "number of unique values in the info frame."
   ]
  },
  {
   "cell_type": "code",
   "execution_count": 18,
   "metadata": {},
   "outputs": [
    {
     "name": "stdout",
     "output_type": "stream",
     "text": [
      "itemID :  3344613\n",
      "categoryID :  51\n",
      "title :  1748591\n",
      "description :  2920254\n",
      "images_array :  2796855\n",
      "attrsJSON :  497393\n",
      "price :  43080\n",
      "locationID :  3347\n",
      "metroID :  306\n",
      "lat :  53117\n",
      "lon :  53219\n"
     ]
    }
   ],
   "source": [
    "for c ,_ in train_iteminfo.items():\n",
    "    print(c, ': ', train_iteminfo[c].nunique())"
   ]
  },
  {
   "cell_type": "markdown",
   "metadata": {},
   "source": [
    "Let's merge everything in a single frame."
   ]
  },
  {
   "cell_type": "code",
   "execution_count": 23,
   "metadata": {},
   "outputs": [
    {
     "data": {
      "text/plain": [
       "(3344613, 11)"
      ]
     },
     "execution_count": 23,
     "metadata": {},
     "output_type": "execute_result"
    }
   ],
   "source": [
    "train_iteminfo.shape"
   ]
  },
  {
   "cell_type": "code",
   "execution_count": 19,
   "metadata": {},
   "outputs": [],
   "source": [
    "x = pd.merge(train_iteminfo, category, left_on = 'categoryID', right_on='categoryID', how='left')"
   ]
  },
  {
   "cell_type": "code",
   "execution_count": 20,
   "metadata": {},
   "outputs": [],
   "source": [
    "x = pd.merge(x, train_locations, left_on = 'locationID', right_on='locationID', how='left')"
   ]
  },
  {
   "cell_type": "code",
   "execution_count": 21,
   "metadata": {},
   "outputs": [
    {
     "data": {
      "text/html": [
       "<div>\n",
       "<style scoped>\n",
       "    .dataframe tbody tr th:only-of-type {\n",
       "        vertical-align: middle;\n",
       "    }\n",
       "\n",
       "    .dataframe tbody tr th {\n",
       "        vertical-align: top;\n",
       "    }\n",
       "\n",
       "    .dataframe thead th {\n",
       "        text-align: right;\n",
       "    }\n",
       "</style>\n",
       "<table border=\"1\" class=\"dataframe\">\n",
       "  <thead>\n",
       "    <tr style=\"text-align: right;\">\n",
       "      <th></th>\n",
       "      <th>0</th>\n",
       "      <th>1</th>\n",
       "      <th>2</th>\n",
       "      <th>3</th>\n",
       "      <th>4</th>\n",
       "    </tr>\n",
       "  </thead>\n",
       "  <tbody>\n",
       "    <tr>\n",
       "      <th>itemID</th>\n",
       "      <td>1</td>\n",
       "      <td>3</td>\n",
       "      <td>4</td>\n",
       "      <td>7</td>\n",
       "      <td>8</td>\n",
       "    </tr>\n",
       "    <tr>\n",
       "      <th>categoryID</th>\n",
       "      <td>81</td>\n",
       "      <td>14</td>\n",
       "      <td>84</td>\n",
       "      <td>84</td>\n",
       "      <td>39</td>\n",
       "    </tr>\n",
       "    <tr>\n",
       "      <th>title</th>\n",
       "      <td>Продам Камаз 6520</td>\n",
       "      <td>Yamaha r6</td>\n",
       "      <td>iPhone 3gs 8gb</td>\n",
       "      <td>Xiaomi Mi4 3гб RAM + 16гб ROM белый</td>\n",
       "      <td>Лыжные ботинки</td>\n",
       "    </tr>\n",
       "    <tr>\n",
       "      <th>description</th>\n",
       "      <td>Продам Камаз 6520 20 тонн</td>\n",
       "      <td>Весь в тюнинге.</td>\n",
       "      <td>Телефон в хорошем состоянии, трещин и сколов н...</td>\n",
       "      <td>Отличный подарок на новый год от \"китайской ap...</td>\n",
       "      <td>Лыжные ботинки в хорошем состоянии, 34 размер</td>\n",
       "    </tr>\n",
       "    <tr>\n",
       "      <th>images_array</th>\n",
       "      <td>1064094, 5252822, 6645873, 6960145, 9230265</td>\n",
       "      <td>11919573, 14412228, 3204180, 6646877</td>\n",
       "      <td>14384831, 6102021</td>\n",
       "      <td>NaN</td>\n",
       "      <td>13718854, 4787310</td>\n",
       "    </tr>\n",
       "    <tr>\n",
       "      <th>attrsJSON</th>\n",
       "      <td>{\"Вид техники\":\"Грузовики\"}</td>\n",
       "      <td>{\"Вид техники\":\"Мотоциклы\", \"Вид мотоцикла\":\"С...</td>\n",
       "      <td>{\"Вид телефона\":\"iPhone\"}</td>\n",
       "      <td>{\"Вид телефона\":\"Другие марки\"}</td>\n",
       "      <td>{\"Вид товара\":\"Зимние виды спорта\"}</td>\n",
       "    </tr>\n",
       "    <tr>\n",
       "      <th>price</th>\n",
       "      <td>300000</td>\n",
       "      <td>300000</td>\n",
       "      <td>3500</td>\n",
       "      <td>13500</td>\n",
       "      <td>500</td>\n",
       "    </tr>\n",
       "    <tr>\n",
       "      <th>locationID</th>\n",
       "      <td>648140</td>\n",
       "      <td>639040</td>\n",
       "      <td>640650</td>\n",
       "      <td>662210</td>\n",
       "      <td>624360</td>\n",
       "    </tr>\n",
       "    <tr>\n",
       "      <th>metroID</th>\n",
       "      <td>NaN</td>\n",
       "      <td>NaN</td>\n",
       "      <td>NaN</td>\n",
       "      <td>NaN</td>\n",
       "      <td>NaN</td>\n",
       "    </tr>\n",
       "    <tr>\n",
       "      <th>lat</th>\n",
       "      <td>64.6869</td>\n",
       "      <td>55.678</td>\n",
       "      <td>56.2394</td>\n",
       "      <td>55.7772</td>\n",
       "      <td>55.7772</td>\n",
       "    </tr>\n",
       "    <tr>\n",
       "      <th>lon</th>\n",
       "      <td>30.8159</td>\n",
       "      <td>37.2565</td>\n",
       "      <td>43.4605</td>\n",
       "      <td>37.5862</td>\n",
       "      <td>37.5862</td>\n",
       "    </tr>\n",
       "    <tr>\n",
       "      <th>parentCategoryID</th>\n",
       "      <td>1</td>\n",
       "      <td>1</td>\n",
       "      <td>6</td>\n",
       "      <td>6</td>\n",
       "      <td>7</td>\n",
       "    </tr>\n",
       "    <tr>\n",
       "      <th>regionID</th>\n",
       "      <td>648070</td>\n",
       "      <td>637680</td>\n",
       "      <td>640310</td>\n",
       "      <td>662000</td>\n",
       "      <td>624300</td>\n",
       "    </tr>\n",
       "  </tbody>\n",
       "</table>\n",
       "</div>"
      ],
      "text/plain": [
       "                                                            0  \\\n",
       "itemID                                                      1   \n",
       "categoryID                                                 81   \n",
       "title                                       Продам Камаз 6520   \n",
       "description                         Продам Камаз 6520 20 тонн   \n",
       "images_array      1064094, 5252822, 6645873, 6960145, 9230265   \n",
       "attrsJSON                         {\"Вид техники\":\"Грузовики\"}   \n",
       "price                                                  300000   \n",
       "locationID                                             648140   \n",
       "metroID                                                   NaN   \n",
       "lat                                                   64.6869   \n",
       "lon                                                   30.8159   \n",
       "parentCategoryID                                            1   \n",
       "regionID                                               648070   \n",
       "\n",
       "                                                                  1  \\\n",
       "itemID                                                            3   \n",
       "categoryID                                                       14   \n",
       "title                                                     Yamaha r6   \n",
       "description                                         Весь в тюнинге.   \n",
       "images_array                   11919573, 14412228, 3204180, 6646877   \n",
       "attrsJSON         {\"Вид техники\":\"Мотоциклы\", \"Вид мотоцикла\":\"С...   \n",
       "price                                                        300000   \n",
       "locationID                                                   639040   \n",
       "metroID                                                         NaN   \n",
       "lat                                                          55.678   \n",
       "lon                                                         37.2565   \n",
       "parentCategoryID                                                  1   \n",
       "regionID                                                     637680   \n",
       "\n",
       "                                                                  2  \\\n",
       "itemID                                                            4   \n",
       "categoryID                                                       84   \n",
       "title                                                iPhone 3gs 8gb   \n",
       "description       Телефон в хорошем состоянии, трещин и сколов н...   \n",
       "images_array                                      14384831, 6102021   \n",
       "attrsJSON                                 {\"Вид телефона\":\"iPhone\"}   \n",
       "price                                                          3500   \n",
       "locationID                                                   640650   \n",
       "metroID                                                         NaN   \n",
       "lat                                                         56.2394   \n",
       "lon                                                         43.4605   \n",
       "parentCategoryID                                                  6   \n",
       "regionID                                                     640310   \n",
       "\n",
       "                                                                  3  \\\n",
       "itemID                                                            7   \n",
       "categoryID                                                       84   \n",
       "title                           Xiaomi Mi4 3гб RAM + 16гб ROM белый   \n",
       "description       Отличный подарок на новый год от \"китайской ap...   \n",
       "images_array                                                    NaN   \n",
       "attrsJSON                           {\"Вид телефона\":\"Другие марки\"}   \n",
       "price                                                         13500   \n",
       "locationID                                                   662210   \n",
       "metroID                                                         NaN   \n",
       "lat                                                         55.7772   \n",
       "lon                                                         37.5862   \n",
       "parentCategoryID                                                  6   \n",
       "regionID                                                     662000   \n",
       "\n",
       "                                                              4  \n",
       "itemID                                                        8  \n",
       "categoryID                                                   39  \n",
       "title                                            Лыжные ботинки  \n",
       "description       Лыжные ботинки в хорошем состоянии, 34 размер  \n",
       "images_array                                  13718854, 4787310  \n",
       "attrsJSON                   {\"Вид товара\":\"Зимние виды спорта\"}  \n",
       "price                                                       500  \n",
       "locationID                                               624360  \n",
       "metroID                                                     NaN  \n",
       "lat                                                     55.7772  \n",
       "lon                                                     37.5862  \n",
       "parentCategoryID                                              7  \n",
       "regionID                                                 624300  "
      ]
     },
     "execution_count": 21,
     "metadata": {},
     "output_type": "execute_result"
    }
   ],
   "source": [
    "x.head().T"
   ]
  },
  {
   "cell_type": "code",
   "execution_count": 22,
   "metadata": {},
   "outputs": [
    {
     "data": {
      "text/plain": [
       "(3344613, 13)"
      ]
     },
     "execution_count": 22,
     "metadata": {},
     "output_type": "execute_result"
    }
   ],
   "source": [
    "x.shape"
   ]
  },
  {
   "cell_type": "code",
   "execution_count": 25,
   "metadata": {},
   "outputs": [
    {
     "data": {
      "text/html": [
       "<div>\n",
       "<style scoped>\n",
       "    .dataframe tbody tr th:only-of-type {\n",
       "        vertical-align: middle;\n",
       "    }\n",
       "\n",
       "    .dataframe tbody tr th {\n",
       "        vertical-align: top;\n",
       "    }\n",
       "\n",
       "    .dataframe thead th {\n",
       "        text-align: right;\n",
       "    }\n",
       "</style>\n",
       "<table border=\"1\" class=\"dataframe\">\n",
       "  <thead>\n",
       "    <tr style=\"text-align: right;\">\n",
       "      <th></th>\n",
       "      <th>0</th>\n",
       "      <th>1</th>\n",
       "      <th>2</th>\n",
       "      <th>3</th>\n",
       "      <th>4</th>\n",
       "    </tr>\n",
       "  </thead>\n",
       "  <tbody>\n",
       "    <tr>\n",
       "      <th>itemID_1</th>\n",
       "      <td>1</td>\n",
       "      <td>3</td>\n",
       "      <td>4</td>\n",
       "      <td>7</td>\n",
       "      <td>8</td>\n",
       "    </tr>\n",
       "    <tr>\n",
       "      <th>itemID_2</th>\n",
       "      <td>4112648</td>\n",
       "      <td>1991275</td>\n",
       "      <td>1223296</td>\n",
       "      <td>1058851</td>\n",
       "      <td>2161930</td>\n",
       "    </tr>\n",
       "    <tr>\n",
       "      <th>isDuplicate</th>\n",
       "      <td>1</td>\n",
       "      <td>1</td>\n",
       "      <td>0</td>\n",
       "      <td>1</td>\n",
       "      <td>1</td>\n",
       "    </tr>\n",
       "    <tr>\n",
       "      <th>generationMethod</th>\n",
       "      <td>1</td>\n",
       "      <td>1</td>\n",
       "      <td>1</td>\n",
       "      <td>1</td>\n",
       "      <td>1</td>\n",
       "    </tr>\n",
       "  </tbody>\n",
       "</table>\n",
       "</div>"
      ],
      "text/plain": [
       "                        0        1        2        3        4\n",
       "itemID_1                1        3        4        7        8\n",
       "itemID_2          4112648  1991275  1223296  1058851  2161930\n",
       "isDuplicate             1        1        0        1        1\n",
       "generationMethod        1        1        1        1        1"
      ]
     },
     "execution_count": 25,
     "metadata": {},
     "output_type": "execute_result"
    }
   ],
   "source": [
    "train_pairs.head().T"
   ]
  },
  {
   "cell_type": "markdown",
   "metadata": {},
   "source": [
    "verify that each itemID has meta data"
   ]
  },
  {
   "cell_type": "code",
   "execution_count": 34,
   "metadata": {},
   "outputs": [
    {
     "data": {
      "text/plain": [
       "True"
      ]
     },
     "execution_count": 34,
     "metadata": {},
     "output_type": "execute_result"
    }
   ],
   "source": [
    "i1 = set(train_pairs['itemID_1'])\n",
    "i2 = set(train_pairs['itemID_2'])\n",
    "items_pairs = i1.union(i2)\n",
    "i = set(x['itemID'])\n",
    "i == items_pairs"
   ]
  },
  {
   "cell_type": "markdown",
   "metadata": {},
   "source": [
    "What problem are solving in this challenge ? "
   ]
  },
  {
   "cell_type": "markdown",
   "metadata": {},
   "source": [
    "- *Thought 1*: Collapse each ad to a vector and then compute some kind of similarity score"
   ]
  },
  {
   "cell_type": "code",
   "execution_count": 35,
   "metadata": {},
   "outputs": [
    {
     "data": {
      "text/plain": [
       "51"
      ]
     },
     "execution_count": 35,
     "metadata": {},
     "output_type": "execute_result"
    }
   ],
   "source": [
    "x['categoryID'].nunique()"
   ]
  },
  {
   "cell_type": "code",
   "execution_count": null,
   "metadata": {},
   "outputs": [],
   "source": []
  }
 ],
 "metadata": {
  "kernelspec": {
   "display_name": "Python 3",
   "language": "python",
   "name": "python3"
  },
  "language_info": {
   "codemirror_mode": {
    "name": "ipython",
    "version": 3
   },
   "file_extension": ".py",
   "mimetype": "text/x-python",
   "name": "python",
   "nbconvert_exporter": "python",
   "pygments_lexer": "ipython3",
   "version": "3.5.4"
  }
 },
 "nbformat": 4,
 "nbformat_minor": 2
}
